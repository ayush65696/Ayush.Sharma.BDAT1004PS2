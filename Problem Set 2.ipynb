{
 "cells": [
  {
   "cell_type": "markdown",
   "metadata": {},
   "source": [
    "# BDAT 1004 - Data Programming \n",
    "PROBLEM SET 2 \n",
    ">Student Number - 200465696"
   ]
  },
  {
   "cell_type": "markdown",
   "metadata": {},
   "source": [
    "### Question 1\n",
    "Consider the following Python module:\n",
    "\n",
    "What value is displayed when the last expression (a) is evaluated? Explain your\n",
    "answer by indicating what happens in every executed statement"
   ]
  },
  {
   "cell_type": "code",
   "execution_count": 8,
   "metadata": {},
   "outputs": [
    {
     "data": {
      "text/plain": [
       "6"
      ]
     },
     "execution_count": 8,
     "metadata": {},
     "output_type": "execute_result"
    }
   ],
   "source": [
    "a = 0 # has global scope\n",
    "def b():\n",
    "    global a #all references to a in b() are to the global a\n",
    "    a = c(a) #global 'a' is changed here since, value returned in function c(a) becomes the global a, NO local scope\n",
    "def c(a):\n",
    "    return a + 2 #this a is the global 'a' which will change with every call in execution\n",
    "\n",
    "b() #it enters the defined fucntion b() and calls the assigned value of c(a) function \n",
    "b() #again the same loop is formed but this time new global 'a' will be changed to 2 instead of 0\n",
    "b() #final time 'a' becomes 4 and hence 6 is the o/p.\n",
    "a   #This will print the final value for global a after three time function b() was called"
   ]
  },
  {
   "cell_type": "markdown",
   "metadata": {},
   "source": [
    "### Question 2\n",
    "Function fileLength(), given to you, takes the name of a file as input and returns\n",
    "the length of the file:\n",
    ">>> fileLength('midterm.py')\n",
    "284\n",
    "fileLength('idterm.py')\n",
    "Traceback (most recent call last):\n",
    ">>> File \"<pyshell#34>\", line 1, in <module>\n",
    "fileLength('idterm.py')\n",
    "File \"/Users/me/midterm.py\", line 3, in fileLength\n",
    "infile = open(filename)\n",
    "FileNotFoundError: [Errno 2] No such file or directory:\n",
    "'idterm.py'\n",
    "As shown above, if the file cannot be found by the interpreter or if it cannot be read\n",
    "as a text file, an exception will be raised. Modify function fileLength() so that a\n",
    "friendly message is printed instead:\n",
    ">>> fileLength('midterm.py')\n",
    "358\n",
    ">>> fileLength('idterm.py')\n",
    "File idterm.py not found"
   ]
  },
  {
   "cell_type": "code",
   "execution_count": 11,
   "metadata": {},
   "outputs": [
    {
     "name": "stdout",
     "output_type": "stream",
     "text": [
      "175\n"
     ]
    }
   ],
   "source": [
    "def fileLength(filename):\n",
    "    try:\n",
    "        infile = open(filename)\n",
    "        contents = infile.read()\n",
    "        infile.close()\n",
    "        print(len(contents))\n",
    "    except:\n",
    "        print('File idterm.py not found')\n",
    "fileLength('midterm.py')"
   ]
  },
  {
   "cell_type": "code",
   "execution_count": 12,
   "metadata": {},
   "outputs": [
    {
     "name": "stdout",
     "output_type": "stream",
     "text": [
      "File idterm.py not found\n"
     ]
    }
   ],
   "source": [
    "def fileLength(filename):\n",
    "    try:\n",
    "        infile = open(filename)\n",
    "        contents = infile.read()\n",
    "        infile.close()\n",
    "        print(len(contents))\n",
    "    except:\n",
    "        print('File idterm.py not found')\n",
    "fileLength('idterm.py')"
   ]
  },
  {
   "cell_type": "markdown",
   "metadata": {},
   "source": [
    "### Question 3\n",
    "Write a class named Marsupial that can be used as shown below:\n",
    "m = Marsupial()\n",
    "m.put_in_pouch('doll')\n",
    "m.put_in_pouch('firetruck')\n",
    "m.put_in_pouch('kitten')\n",
    "m.pouch_contents()\n",
    "['doll', 'firetruck', 'kitten']\n",
    "Now write a class named Kangaroo as a subclass of Marsupial that inherits all the\n",
    "attributes of Marsupial and also:\n",
    "a.) extends the Marsupial __init__ constructor to take, as input, the\n",
    "coordinates x and y of the Kangaroo object,\n",
    "b.) supports method jump that takes number values dx and dy as input and\n",
    "moves the kangaroo by dx units along the x-axis and by dy units along the yaxis, and\n",
    "c.) overloads the __str__ operator so it behaves as shown below.\n",
    "k = Kangaroo(0,0)\n",
    "print(k)\n",
    "I am a Kangaroo located at coordinates (0,0)\n",
    ">>> k.put_in_pouch('doll')\n",
    ">>> k.put_in_pouch('firetruck')\n",
    ">>> k.put_in_pouch('kitten')\n",
    ">>> k.pouch_contents()\n",
    "['doll', 'firetruck', 'kitten']\n",
    ">>> k.jump(1,0)\n",
    ">>> k.jump(1,0)\n",
    ">>> k.jump(1,0)\n",
    ">>> print(k)\n",
    "I am a Kangaroo located at coordinates (3,0)"
   ]
  },
  {
   "cell_type": "code",
   "execution_count": 31,
   "metadata": {},
   "outputs": [
    {
     "name": "stdout",
     "output_type": "stream",
     "text": [
      "I am a Kangaroo located at coordinates(3,0)\n"
     ]
    }
   ],
   "source": [
    "class Marsupial:\n",
    "    def __init__(self,value=None,Xcoord=0,Ycoord=0):\n",
    "        self.x=Xcoord\n",
    "        self.y=Ycoord\n",
    "        self.pouch_contents = []\n",
    "    \n",
    "    def put_in_pouch(self,value):\n",
    "        self.pouch_contents.append(value)\n",
    "        \n",
    "    def pouch_contents(self,value):\n",
    "        print(self.pouch_contents())\n",
    "        \n",
    "    def jump(self,dx,dy):\n",
    "        self.x+=dx\n",
    "        self.y+=dy\n",
    "        \n",
    "    def __str__(self):\n",
    "        return 'I am a Kangaroo located at coordinates({},{})'.format(self.x,self.y)\n",
    "\n",
    "class Kangaroo(Marsupial):\n",
    "    pass\n",
    "k = Kangaroo()\n",
    "k.put_in_pouch('doll')\n",
    "k.put_in_pouch('firetruck')\n",
    "k.put_in_pouch('kitten')\n",
    "k.jump(1,0)\n",
    "k.jump(1,0)\n",
    "k.jump(1,0)\n",
    "print(k)\n"
   ]
  },
  {
   "cell_type": "markdown",
   "metadata": {},
   "source": [
    "### Question 4\n",
    "Write function collatz() that takes a positive integer x as input and prints the\n",
    "Collatz sequence starting at x. A Collatz sequence is obtained by repeatedly applying\n",
    "this rule to the previous number x in the sequence:\n",
    "x = x/2 if x is even\n",
    "x = 3x+1 if x is odd\n",
    "Your function should stop when the sequence gets to number 1. Your\n",
    "implementation must be recursive, without any loops."
   ]
  },
  {
   "cell_type": "code",
   "execution_count": 6,
   "metadata": {},
   "outputs": [
    {
     "name": "stdout",
     "output_type": "stream",
     "text": [
      "10\n",
      "5\n",
      "16\n",
      "8\n",
      "4\n",
      "2\n",
      "1\n"
     ]
    },
    {
     "data": {
      "text/plain": [
       "1"
      ]
     },
     "execution_count": 6,
     "metadata": {},
     "output_type": "execute_result"
    }
   ],
   "source": [
    "def collatz(x):\n",
    "    print(x)\n",
    "    if x == 1:\n",
    "        return x\n",
    "    if x % 2 == 0:\n",
    "        return collatz(x//2)\n",
    "    return collatz(3*x+1)\n",
    "\n",
    "collatz(10)"
   ]
  },
  {
   "cell_type": "markdown",
   "metadata": {},
   "source": [
    "### Question 5\n",
    "Write a recursive method binary() that takes a non-negative\n",
    "integer n and prints the binary representation of integer n.\n",
    ">>> binary(0)\n",
    "0\n",
    ">>> binary(1)\n",
    "1\n",
    ">>> binary(3)\n",
    "11\n",
    ">>> binary(9)\n",
    "1001"
   ]
  },
  {
   "cell_type": "code",
   "execution_count": 75,
   "metadata": {},
   "outputs": [
    {
     "data": {
      "text/plain": [
       "1001"
      ]
     },
     "execution_count": 75,
     "metadata": {},
     "output_type": "execute_result"
    }
   ],
   "source": [
    "# Decimal to binary conversion \n",
    "# using recursion\n",
    "def binary(n):\n",
    "    if n == 0:\n",
    "        return n\n",
    "    else:\n",
    "        return (n % 2 + 10 * binary(int(n // 2)))\n",
    "    print(binary(n))\n",
    "binary(9)"
   ]
  },
  {
   "cell_type": "markdown",
   "metadata": {},
   "source": [
    "### Question 6\n",
    "Implement a class named HeadingParser that can be used to parse an HTML\n",
    "document, and retrieve and print all the headings in the document. You should\n",
    "implement your class as a subclass of HTMLParser, defined in Standard Library\n",
    "module html.parser. When fed a string containing HTML code, your class should\n",
    "print the headings, one per line and in the order in which they appear in the\n",
    "document. Each heading should be indented as follows: an h1 heading should have indentation 0, and h2 heading should have indentation 1, etc. Test your implementation using w3c.html.\n",
    ">>> infile = open('w3c.html')\n",
    ">>> content = infile.read()\n",
    ">>> infile.close()\n",
    ">>> hp = HeadingParser()\n",
    ">>> hp.feed(content)\n",
    "W3C Mission\n",
    "Principles"
   ]
  },
  {
   "cell_type": "code",
   "execution_count": 75,
   "metadata": {},
   "outputs": [
    {
     "name": "stdout",
     "output_type": "stream",
     "text": [
      "W3C Mission\n",
      "\tPrinciples\n"
     ]
    }
   ],
   "source": [
    "#taken most of the code from Lecture\n",
    "from html.parser import HTMLParser\n",
    "class HeadingParser(HTMLParser): \n",
    "    def __init__(self):\n",
    "        self.flag = False \n",
    "        self.indent = 0 #provides indentation of 0\n",
    "        self.stack = [] \n",
    "        super().__init__()\n",
    "\n",
    "    def handle_starttag(self, tag, attrs): #function handle_starttag\n",
    "        if(tag[0] == 'h' and tag[1] <='6' and tag[1] > '0' and len(tag) == 2): #condition\n",
    "            self.stack.append(\"\")\n",
    "\n",
    "    def handle_endtag(self, tag): #function handle_endtag\n",
    "        if (tag[0] == 'h' and tag[1] <= '6' and tag[1] > '0' and len(tag) == 2): #reading the end tag of handle\n",
    "            indent = int(tag[1]) - 1  #provides indentation\n",
    "            for i in range(0,indent):\n",
    "                print(\"\\t\",end=\"\")\n",
    "            print(self.stack.pop())\n",
    "\n",
    "    def handle_data(self, data): ##define function handle_data\n",
    "        if(len(self.stack) != 0):\n",
    "            str = self.stack.pop()\n",
    "            str+=data #assigning data to string\n",
    "            self.stack.append(str)\n",
    "                    \n",
    "infile = open('w3c.html')\n",
    "content = infile.read()\n",
    "infile.close()\n",
    "hp = HeadingParser()\n",
    "hp.feed(content)   \n"
   ]
  },
  {
   "cell_type": "markdown",
   "metadata": {},
   "source": [
    "### Question 7\n",
    "Implement recursive function webdir() that takes as input: a URL (as a string) and\n",
    "non-negative integers depth and indent. Your function should visit every web\n",
    "page reachable from the starting URL web page in depth clicks or less, and print\n",
    "each web page's URL. As shown below, indentation, specified by indent, should\n",
    "be used to indicate the depth of a URL.\n",
    ">>>\n",
    "webdir('http://reed.cs.depaul.edu/lperkovic/csc242/test1.html'\n",
    ", 2, 0)\n",
    "http://reed.cs.depaul.edu/lperkovic/csc242/test1.html\n",
    "http://reed.cs.depaul.edu/lperkovic/csc242/test2.html\n",
    "http://reed.cs.depaul.edu/lperkovic/csc242/test4.html\n",
    "http://reed.cs.depaul.edu/lperkovic/csc242/test3.html\n",
    "http://reed.cs.depaul.edu/lperkovic/csc242/test4.html"
   ]
  },
  {
   "cell_type": "code",
   "execution_count": 70,
   "metadata": {},
   "outputs": [],
   "source": [
    "visited = set() # initialize visited to an empty set\n",
    "def webdir(URL, depth, indent):\n",
    "    \n",
    "    '''a recursive web crawler that calls analyze()\n",
    "       on every visited web page'''\n",
    "\n",
    "    # add url to set of visited pages\n",
    "    global visited     # warns the programmer \n",
    "    visited.add(url)\n",
    "\n",
    "    # analyze() returns a list of hyperlink URLs in web page url \n",
    "    links = analyze(url)\n",
    "\n",
    "    # recursively continue crawl from every link in links\n",
    "    for link in links:\n",
    "        # follow link only if not visited\n",
    "        if link not in visited:\n",
    "            try:\n",
    "                webdir(link)\n",
    "            except:\n",
    "                pass\n",
    "            \n"
   ]
  },
  {
   "cell_type": "code",
   "execution_count": 72,
   "metadata": {},
   "outputs": [],
   "source": [
    "#UNABLE TO DO, SOLUTION REQUIRED\n"
   ]
  },
  {
   "cell_type": "markdown",
   "metadata": {},
   "source": [
    "### Question 8\n",
    "Write SQL queries on the below database table that return:\n",
    "\n",
    "\n",
    "Question                                   | SQL Statements \n",
    ":----------------------------------------  | ----------------------------------------------------:\n",
    "- All the temperature data.                | SELECT Temperature FROM Table;\n",
    "                                           |\n",
    "- All the cities, but without              | SELECT DISTINCT City FROM Table;\n",
    "  repetition.                              | \n",
    "                                           |                                        \n",
    "- All the records for India.               | SELECT * FROM Table WHERE Country = 'India';\n",
    "                                           |\n",
    "- All the Fall records.                    | SELECT * FROM Table WHERE Season = 'Fall';\n",
    "                                           |\n",
    "- The city, country, and season for        | SELECT City, Country, Season FROM Table \n",
    "  which the average rainfall is between    | WHERE Rainfall BETWEEN 200 AND 400;\n",
    "  200 and 400 millimeters.                 | \n",
    "                                           |\n",
    "- The city and country for which the       | SELECT City, Country FROM Table WHERE Season = 'Fall' \n",
    "  average Fall temperature is above 20     | AND Temperature > 20\n",
    "  degrees, in increasing temperature order | ORDER BY Temperature ASC;\n",
    "                                           |\n",
    "- The total annual rainfall for Cairo.     | SELECT SUM(Rainfall) FROM Table WHERE City = 'Cairo';\n",
    "                                           |\n",
    "- The total rainfall for each season       | SELECT SUM(Rainfall) FROM Table GROUP BY Season;\n"
   ]
  },
  {
   "cell_type": "markdown",
   "metadata": {},
   "source": [
    "### Question 9\n",
    " Suppose list words is defined as follows:\n",
    "words = ['The', 'quick', 'brown', 'fox', 'jumps', 'over',\n",
    "'the', 'lazy', 'dog']\n",
    "Write list comprehension expressions that use list words and generate the following\n",
    "lists:\n",
    "a) ['THE', 'QUICK', 'BROWN', 'FOX', 'JUMPS', 'OVER', 'THE',\n",
    "'LAZY', 'DOG']\n",
    "b) ['the', 'quick', 'brown', 'fox', 'jumps', 'over', 'the',\n",
    "'lazy', 'dog']\n",
    "c) [3, 5, 5, 3, 5, 4, 3, 4, 3] (the list of lengths of words in list\n",
    "words).\n",
    "d) [['THE', 'the', 3], ['QUICK', 'quick', 5], ['BROWN',\n",
    "'brown', 5], ['FOX', 'fox', 3], ['JUMPS', 'jumps', 5],\n",
    "['OVER', 'over', 4], ['THE', 'the', 3], ['LAZY', 'lazy',\n",
    "4], ['DOG', 'dog', 3]] (the list containing a list for every word of list\n",
    "words, where each list contains the word in uppercase and lowercase and the\n",
    "length of the word.)\n",
    "e) ['The', 'quick', 'brown', 'fox', 'jumps', 'over', 'the',\n",
    "'lazy', 'dog'] (the list of words in list words containing 4 or more\n",
    "characters.)"
   ]
  },
  {
   "cell_type": "code",
   "execution_count": 38,
   "metadata": {},
   "outputs": [],
   "source": [
    "words = ['The', 'quick', 'brown', 'fox', 'jumps', 'over',\n",
    "'the', 'lazy', 'dog']"
   ]
  },
  {
   "cell_type": "code",
   "execution_count": 40,
   "metadata": {},
   "outputs": [
    {
     "name": "stdout",
     "output_type": "stream",
     "text": [
      "['THE', 'QUICK', 'BROWN', 'FOX', 'JUMPS', 'OVER', 'THE', 'LAZY', 'DOG']\n"
     ]
    }
   ],
   "source": [
    "#a.\n",
    "UPPER = [x.upper() for x in words] \n",
    "print(UPPER)"
   ]
  },
  {
   "cell_type": "code",
   "execution_count": 42,
   "metadata": {},
   "outputs": [
    {
     "name": "stdout",
     "output_type": "stream",
     "text": [
      "['the', 'quick', 'brown', 'fox', 'jumps', 'over', 'the', 'lazy', 'dog']\n"
     ]
    }
   ],
   "source": [
    "#b. \n",
    "LOWER = [x.lower() for x in words]\n",
    "print(LOWER)\n"
   ]
  },
  {
   "cell_type": "code",
   "execution_count": 45,
   "metadata": {},
   "outputs": [
    {
     "name": "stdout",
     "output_type": "stream",
     "text": [
      "[3, 5, 5, 3, 5, 4, 3, 4, 3]\n"
     ]
    }
   ],
   "source": [
    "#c. \n",
    "LENGTH = [len(x) for x in words]\n",
    "print(LENGTH)"
   ]
  },
  {
   "cell_type": "code",
   "execution_count": 67,
   "metadata": {},
   "outputs": [
    {
     "name": "stdout",
     "output_type": "stream",
     "text": [
      "[['THE', 'the', 3], ['QUICK', 'quick', 5], ['BROWN', 'brown', 5], ['FOX', 'fox', 3], ['JUMPS', 'jumps', 5], ['OVER', 'over', 4], ['THE', 'the', 3], ['LAZY', 'lazy', 4], ['DOG', 'dog', 3]]\n"
     ]
    }
   ],
   "source": [
    "#d.\n",
    "lst =[]\n",
    "for x in words:\n",
    "    lst.append([x.upper(), x.lower(), len(x)])\n",
    "print(lst)"
   ]
  },
  {
   "cell_type": "code",
   "execution_count": 58,
   "metadata": {},
   "outputs": [
    {
     "name": "stdout",
     "output_type": "stream",
     "text": [
      "['quick', 'brown', 'jumps', 'over', 'lazy']\n"
     ]
    }
   ],
   "source": [
    "#e.\n",
    "tempList = []\n",
    "for x in words:\n",
    "    if len(x) >=4:\n",
    "        tempList.append(x)\n",
    "print(tempList)\n",
    "    "
   ]
  }
 ],
 "metadata": {
  "kernelspec": {
   "display_name": "Python 3",
   "language": "python",
   "name": "python3"
  },
  "language_info": {
   "codemirror_mode": {
    "name": "ipython",
    "version": 3
   },
   "file_extension": ".py",
   "mimetype": "text/x-python",
   "name": "python",
   "nbconvert_exporter": "python",
   "pygments_lexer": "ipython3",
   "version": "3.8.5"
  }
 },
 "nbformat": 4,
 "nbformat_minor": 4
}
